{
  "nbformat": 4,
  "nbformat_minor": 0,
  "metadata": {
    "colab": {
      "provenance": [],
      "authorship_tag": "ABX9TyPClH2COODtPCtqbUkqgcJo",
      "include_colab_link": true
    },
    "kernelspec": {
      "name": "python3",
      "display_name": "Python 3"
    },
    "language_info": {
      "name": "python"
    }
  },
  "cells": [
    {
      "cell_type": "markdown",
      "metadata": {
        "id": "view-in-github",
        "colab_type": "text"
      },
      "source": [
        "<a href=\"https://colab.research.google.com/github/alejitalaanalitica/Bootcamp_Data_Science/blob/main/Data_Wrangling.ipynb\" target=\"_parent\"><img src=\"https://colab.research.google.com/assets/colab-badge.svg\" alt=\"Open In Colab\"/></a>"
      ]
    },
    {
      "cell_type": "markdown",
      "source": [
        "# **Data Wrangling (Limpieza y Preprocesamiento de Datos)**\n"
      ],
      "metadata": {
        "id": "Tdjg0k5GyuMi"
      }
    },
    {
      "cell_type": "markdown",
      "source": [
        "\n",
        "En esta actividad, se realizó una exhaustiva limpieza de los datos de ventas, abordando outliers, valores nulos y duplicados. La estrategia implementada consideró técnicas de imputación sensible para los valores nulos y el uso del método Z-Score para identificar outliers. El análisis de outliers permitió identificar y justificar la retención de registros correspondientes a las marcas y departamentos más destacados en ventas. Este trabajo es parte del bootcamp de Data Science bajo la guía del profesor David Usta.\n"
      ],
      "metadata": {
        "id": "Fm6hBNmuyxKo"
      }
    },
    {
      "cell_type": "markdown",
      "source": [
        "\n",
        "\n",
        "*   Revision Valores nulos"
      ],
      "metadata": {
        "id": "SjbMQQHnxhiX"
      }
    },
    {
      "cell_type": "code",
      "execution_count": 2,
      "metadata": {
        "colab": {
          "base_uri": "https://localhost:8080/",
          "height": 73
        },
        "id": "DBWR55a9vUOa",
        "outputId": "62ad302a-1601-40e2-b069-1e880408b32d"
      },
      "outputs": [
        {
          "output_type": "display_data",
          "data": {
            "text/plain": [
              "<IPython.core.display.HTML object>"
            ],
            "text/html": [
              "\n",
              "     <input type=\"file\" id=\"files-25720168-e53d-47e6-8d14-4f49d09b4d88\" name=\"files[]\" multiple disabled\n",
              "        style=\"border:none\" />\n",
              "     <output id=\"result-25720168-e53d-47e6-8d14-4f49d09b4d88\">\n",
              "      Upload widget is only available when the cell has been executed in the\n",
              "      current browser session. Please rerun this cell to enable.\n",
              "      </output>\n",
              "      <script>// Copyright 2017 Google LLC\n",
              "//\n",
              "// Licensed under the Apache License, Version 2.0 (the \"License\");\n",
              "// you may not use this file except in compliance with the License.\n",
              "// You may obtain a copy of the License at\n",
              "//\n",
              "//      http://www.apache.org/licenses/LICENSE-2.0\n",
              "//\n",
              "// Unless required by applicable law or agreed to in writing, software\n",
              "// distributed under the License is distributed on an \"AS IS\" BASIS,\n",
              "// WITHOUT WARRANTIES OR CONDITIONS OF ANY KIND, either express or implied.\n",
              "// See the License for the specific language governing permissions and\n",
              "// limitations under the License.\n",
              "\n",
              "/**\n",
              " * @fileoverview Helpers for google.colab Python module.\n",
              " */\n",
              "(function(scope) {\n",
              "function span(text, styleAttributes = {}) {\n",
              "  const element = document.createElement('span');\n",
              "  element.textContent = text;\n",
              "  for (const key of Object.keys(styleAttributes)) {\n",
              "    element.style[key] = styleAttributes[key];\n",
              "  }\n",
              "  return element;\n",
              "}\n",
              "\n",
              "// Max number of bytes which will be uploaded at a time.\n",
              "const MAX_PAYLOAD_SIZE = 100 * 1024;\n",
              "\n",
              "function _uploadFiles(inputId, outputId) {\n",
              "  const steps = uploadFilesStep(inputId, outputId);\n",
              "  const outputElement = document.getElementById(outputId);\n",
              "  // Cache steps on the outputElement to make it available for the next call\n",
              "  // to uploadFilesContinue from Python.\n",
              "  outputElement.steps = steps;\n",
              "\n",
              "  return _uploadFilesContinue(outputId);\n",
              "}\n",
              "\n",
              "// This is roughly an async generator (not supported in the browser yet),\n",
              "// where there are multiple asynchronous steps and the Python side is going\n",
              "// to poll for completion of each step.\n",
              "// This uses a Promise to block the python side on completion of each step,\n",
              "// then passes the result of the previous step as the input to the next step.\n",
              "function _uploadFilesContinue(outputId) {\n",
              "  const outputElement = document.getElementById(outputId);\n",
              "  const steps = outputElement.steps;\n",
              "\n",
              "  const next = steps.next(outputElement.lastPromiseValue);\n",
              "  return Promise.resolve(next.value.promise).then((value) => {\n",
              "    // Cache the last promise value to make it available to the next\n",
              "    // step of the generator.\n",
              "    outputElement.lastPromiseValue = value;\n",
              "    return next.value.response;\n",
              "  });\n",
              "}\n",
              "\n",
              "/**\n",
              " * Generator function which is called between each async step of the upload\n",
              " * process.\n",
              " * @param {string} inputId Element ID of the input file picker element.\n",
              " * @param {string} outputId Element ID of the output display.\n",
              " * @return {!Iterable<!Object>} Iterable of next steps.\n",
              " */\n",
              "function* uploadFilesStep(inputId, outputId) {\n",
              "  const inputElement = document.getElementById(inputId);\n",
              "  inputElement.disabled = false;\n",
              "\n",
              "  const outputElement = document.getElementById(outputId);\n",
              "  outputElement.innerHTML = '';\n",
              "\n",
              "  const pickedPromise = new Promise((resolve) => {\n",
              "    inputElement.addEventListener('change', (e) => {\n",
              "      resolve(e.target.files);\n",
              "    });\n",
              "  });\n",
              "\n",
              "  const cancel = document.createElement('button');\n",
              "  inputElement.parentElement.appendChild(cancel);\n",
              "  cancel.textContent = 'Cancel upload';\n",
              "  const cancelPromise = new Promise((resolve) => {\n",
              "    cancel.onclick = () => {\n",
              "      resolve(null);\n",
              "    };\n",
              "  });\n",
              "\n",
              "  // Wait for the user to pick the files.\n",
              "  const files = yield {\n",
              "    promise: Promise.race([pickedPromise, cancelPromise]),\n",
              "    response: {\n",
              "      action: 'starting',\n",
              "    }\n",
              "  };\n",
              "\n",
              "  cancel.remove();\n",
              "\n",
              "  // Disable the input element since further picks are not allowed.\n",
              "  inputElement.disabled = true;\n",
              "\n",
              "  if (!files) {\n",
              "    return {\n",
              "      response: {\n",
              "        action: 'complete',\n",
              "      }\n",
              "    };\n",
              "  }\n",
              "\n",
              "  for (const file of files) {\n",
              "    const li = document.createElement('li');\n",
              "    li.append(span(file.name, {fontWeight: 'bold'}));\n",
              "    li.append(span(\n",
              "        `(${file.type || 'n/a'}) - ${file.size} bytes, ` +\n",
              "        `last modified: ${\n",
              "            file.lastModifiedDate ? file.lastModifiedDate.toLocaleDateString() :\n",
              "                                    'n/a'} - `));\n",
              "    const percent = span('0% done');\n",
              "    li.appendChild(percent);\n",
              "\n",
              "    outputElement.appendChild(li);\n",
              "\n",
              "    const fileDataPromise = new Promise((resolve) => {\n",
              "      const reader = new FileReader();\n",
              "      reader.onload = (e) => {\n",
              "        resolve(e.target.result);\n",
              "      };\n",
              "      reader.readAsArrayBuffer(file);\n",
              "    });\n",
              "    // Wait for the data to be ready.\n",
              "    let fileData = yield {\n",
              "      promise: fileDataPromise,\n",
              "      response: {\n",
              "        action: 'continue',\n",
              "      }\n",
              "    };\n",
              "\n",
              "    // Use a chunked sending to avoid message size limits. See b/62115660.\n",
              "    let position = 0;\n",
              "    do {\n",
              "      const length = Math.min(fileData.byteLength - position, MAX_PAYLOAD_SIZE);\n",
              "      const chunk = new Uint8Array(fileData, position, length);\n",
              "      position += length;\n",
              "\n",
              "      const base64 = btoa(String.fromCharCode.apply(null, chunk));\n",
              "      yield {\n",
              "        response: {\n",
              "          action: 'append',\n",
              "          file: file.name,\n",
              "          data: base64,\n",
              "        },\n",
              "      };\n",
              "\n",
              "      let percentDone = fileData.byteLength === 0 ?\n",
              "          100 :\n",
              "          Math.round((position / fileData.byteLength) * 100);\n",
              "      percent.textContent = `${percentDone}% done`;\n",
              "\n",
              "    } while (position < fileData.byteLength);\n",
              "  }\n",
              "\n",
              "  // All done.\n",
              "  yield {\n",
              "    response: {\n",
              "      action: 'complete',\n",
              "    }\n",
              "  };\n",
              "}\n",
              "\n",
              "scope.google = scope.google || {};\n",
              "scope.google.colab = scope.google.colab || {};\n",
              "scope.google.colab._files = {\n",
              "  _uploadFiles,\n",
              "  _uploadFilesContinue,\n",
              "};\n",
              "})(self);\n",
              "</script> "
            ]
          },
          "metadata": {}
        },
        {
          "output_type": "stream",
          "name": "stdout",
          "text": [
            "Saving Ventas_.xlsx to Ventas_.xlsx\n"
          ]
        }
      ],
      "source": [
        "from google.colab import files\n",
        "uploaded = files.upload()"
      ]
    },
    {
      "cell_type": "code",
      "source": [
        "data = pd.read_excel('Ventas_.xlsx')\n",
        "\n",
        "# revisamos cuántos valores nulos tenemos antes de comenzar la limpieza.\n",
        "print(\"Valores nulos antes de la limpieza:\")\n",
        "print(data.isnull().sum())\n",
        "\n",
        "# Eliminación de posibles duplicados en el conjunto de datos.\n",
        "data.drop_duplicates(inplace=True)\n",
        "\n",
        "# Imputación de valores nulos utilizando la media como estrategia.\n",
        "data.fillna(data.mean(), inplace=True)\n",
        "\n",
        "# Verificación post-limpieza para confirmar la efectividad de las operaciones.\n",
        "print(\"\\nValores nulos después de la limpieza:\")\n",
        "print(data.isnull().sum())\n",
        "\n",
        "# Identificación y tratamiento de outliers mediante Z-Score.\n",
        "from scipy import stats\n",
        "z_scores = stats.zscore(data['No ventas'])\n",
        "data = data[(z_scores < 3)]\n",
        "\n",
        "# Guardado del DataFrame resultante después de la limpieza en un nuevo archivo.\n",
        "data.to_excel('Ventas_2.xlsx', index=False)\n"
      ],
      "metadata": {
        "colab": {
          "base_uri": "https://localhost:8080/"
        },
        "id": "IPGCTT1Rvzwi",
        "outputId": "1ea87263-38dd-4c83-b4dd-426daa223988"
      },
      "execution_count": 13,
      "outputs": [
        {
          "output_type": "stream",
          "name": "stdout",
          "text": [
            "Valores nulos antes de la limpieza:\n",
            "Fecha                 0\n",
            "Tienda                0\n",
            "División Principal    0\n",
            "Subcategoría          0\n",
            "Marca                 0\n",
            "No ventas             0\n",
            "Departamento Venta    0\n",
            "dtype: int64\n"
          ]
        },
        {
          "output_type": "stream",
          "name": "stderr",
          "text": [
            "<ipython-input-13-88754765c7cd>:11: FutureWarning: DataFrame.mean and DataFrame.median with numeric_only=None will include datetime64 and datetime64tz columns in a future version.\n",
            "  data.fillna(data.mean(), inplace=True)\n",
            "<ipython-input-13-88754765c7cd>:11: FutureWarning: The default value of numeric_only in DataFrame.mean is deprecated. In a future version, it will default to False. In addition, specifying 'numeric_only=None' is deprecated. Select only valid columns or specify the value of numeric_only to silence this warning.\n",
            "  data.fillna(data.mean(), inplace=True)\n"
          ]
        },
        {
          "output_type": "stream",
          "name": "stdout",
          "text": [
            "\n",
            "Valores nulos después de la limpieza:\n",
            "Fecha                 0\n",
            "Tienda                0\n",
            "División Principal    0\n",
            "Subcategoría          0\n",
            "Marca                 0\n",
            "No ventas             0\n",
            "Departamento Venta    0\n",
            "dtype: int64\n"
          ]
        }
      ]
    },
    {
      "cell_type": "markdown",
      "source": [
        "\n",
        "\n",
        "*   Problema de Outliers\n",
        "\n",
        "\n"
      ],
      "metadata": {
        "id": "sVpCuyqR1tQ_"
      }
    },
    {
      "cell_type": "code",
      "source": [
        "# Cálculo del Z-Score para la columna 'No ventas'.\n",
        "z_scores = zscore(data['No ventas'])\n",
        "\n",
        "# Definición de un umbral para identificar outliers (3 desviaciones estándar).\n",
        "umbral_z = 3\n",
        "\n",
        "# Identificación de outliers basada en el umbral establecido.\n",
        "outliers = (abs(z_scores) > umbral_z)\n",
        "\n",
        "# Aclaración sobre la decisión de no eliminar ciertos valores identificados como outliers.\n",
        "print(\"Outliers identificados:\")\n",
        "if outliers.any():\n",
        "    print(\"Se han identificado outliers, pero no se eliminarán.\")\n",
        "    print(\"Estos valores representan la marca y departamento que más están vendiendo.\")\n",
        "    print(\"No hay razones para considerarlos como datos incorrectos.\")\n",
        "else:\n",
        "    print(\"No se han identificado outliers que cumplan con el umbral establecido.\")\n",
        "    print(\"Puedes proceder sin eliminar ningún valor.\")\n",
        "\n",
        "# Mostrar los outliers identificados\n",
        "outliers_data = data[outliers]\n",
        "print(\"\\nValores atípicos identificados:\")\n",
        "print(outliers_data)"
      ],
      "metadata": {
        "colab": {
          "base_uri": "https://localhost:8080/"
        },
        "id": "kEnABSDvwCIi",
        "outputId": "a58235ed-079f-4443-8e98-3ecfc4b27b71"
      },
      "execution_count": 14,
      "outputs": [
        {
          "output_type": "stream",
          "name": "stdout",
          "text": [
            "Outliers identificados:\n",
            "Se han identificado outliers, pero no se eliminarán.\n",
            "Estos valores representan la marca y departamento que más están vendiendo.\n",
            "No hay razones para considerarlos como datos incorrectos.\n",
            "\n",
            "Valores atípicos identificados:\n",
            "           Fecha            Tienda       División Principal Subcategoría  \\\n",
            "186   2021-01-08         TechTrove  Computadoras Personales        Mouse   \n",
            "188   2021-01-08         TechTrove  Computadoras Personales        Mouse   \n",
            "194   2021-01-08         TechTrove  Computadoras Personales      Teclado   \n",
            "195   2021-01-08         TechTrove  Computadoras Personales      Teclado   \n",
            "199   2021-01-08         TechTrove  Computadoras Personales        Mouse   \n",
            "...          ...               ...                      ...          ...   \n",
            "88279 2021-12-09         TechTrove  Computadoras Personales    Impresora   \n",
            "88280 2021-12-09         TechTrove  Computadoras Personales    Impresora   \n",
            "88836 2021-12-09         TechTrove  Computadoras Personales    Impresora   \n",
            "89742 2021-12-09  InnovationInflux  Computadoras Personales    Impresora   \n",
            "89781 2021-12-09   QuantumQuarters  Computadoras Personales    Impresora   \n",
            "\n",
            "             Marca  No ventas Departamento Venta  \n",
            "186        VisionX         61       CUNDINAMARCA  \n",
            "188    ElectraSync         69       CUNDINAMARCA  \n",
            "194     ByteFusion         73       CUNDINAMARCA  \n",
            "195       OmniTech         51       CUNDINAMARCA  \n",
            "199     ByteFusion         76       CUNDINAMARCA  \n",
            "...            ...        ...                ...  \n",
            "88279  GigaTechPro         49             BOYACA  \n",
            "88280  GigaTechPro         73             BOYACA  \n",
            "88836  GigaTechPro         50          ATLANTICO  \n",
            "89742   ByteFusion         59       CUNDINAMARCA  \n",
            "89781   ByteFusion         52             BOYACA  \n",
            "\n",
            "[1437 rows x 7 columns]\n"
          ]
        }
      ]
    }
  ]
}