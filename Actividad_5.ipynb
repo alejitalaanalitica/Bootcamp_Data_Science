{
  "nbformat": 4,
  "nbformat_minor": 0,
  "metadata": {
    "colab": {
      "provenance": [],
      "authorship_tag": "ABX9TyNElky6xkCl2ZGNtgqhAmNY",
      "include_colab_link": true
    },
    "kernelspec": {
      "name": "python3",
      "display_name": "Python 3"
    },
    "language_info": {
      "name": "python"
    }
  },
  "cells": [
    {
      "cell_type": "markdown",
      "metadata": {
        "id": "view-in-github",
        "colab_type": "text"
      },
      "source": [
        "<a href=\"https://colab.research.google.com/github/alejitalaanalitica/Bootcamp_Data_Science/blob/main/Actividad_5.ipynb\" target=\"_parent\"><img src=\"https://colab.research.google.com/assets/colab-badge.svg\" alt=\"Open In Colab\"/></a>"
      ]
    },
    {
      "cell_type": "code",
      "execution_count": 2,
      "metadata": {
        "colab": {
          "base_uri": "https://localhost:8080/"
        },
        "id": "uoV7-TA5rFea",
        "outputId": "6b50cdc9-103c-4b54-c90f-f51721f670ec"
      },
      "outputs": [
        {
          "output_type": "stream",
          "name": "stdout",
          "text": [
            "Número de filas y columnas: (20, 8)\n",
            "\n",
            "Nombres de columnas: Index(['source', 'author', 'title', 'description', 'url', 'urlToImage',\n",
            "       'publishedAt', 'content'],\n",
            "      dtype='object')\n",
            "\n",
            "Tipos de datos de las columnas:\n",
            " source         object\n",
            "author         object\n",
            "title          object\n",
            "description    object\n",
            "url            object\n",
            "urlToImage     object\n",
            "publishedAt    object\n",
            "content        object\n",
            "dtype: object\n",
            "\n",
            "Primeras filas del DataFrame:\n",
            "                                      source  \\\n",
            "0  {'id': None, 'name': 'Cartercenter.org'}   \n",
            "1        {'id': None, 'name': 'CBS Sports'}   \n",
            "2    {'id': 'abc-news', 'name': 'ABC News'}   \n",
            "3          {'id': 'axios', 'name': 'Axios'}   \n",
            "4    {'id': 'nbc-news', 'name': 'NBC News'}   \n",
            "\n",
            "                                author  \\\n",
            "0                                 None   \n",
            "1                                        \n",
            "2  BISWAJEET BANERJEE Associated Press   \n",
            "3                                Axios   \n",
            "4     Marlene Lenthang, Antonio Planas   \n",
            "\n",
            "                                               title  \\\n",
            "0  Statement on the Health of Rosalynn Carter - T...   \n",
            "1  Joe Burrow injury update: Bengals star QB to h...   \n",
            "2  New drill bores deeper into tunnel rubble in I...   \n",
            "3  Exclusive: Apple to pause advertising on X aft...   \n",
            "4  Authorities reviewed 600 pieces of evidence be...   \n",
            "\n",
            "                                         description  \\\n",
            "0  Former First Lady Rosalynn Carter has entered ...   \n",
            "1  The Bengals star could not grip the ball on th...   \n",
            "2  Rescuers drilled deeper into the rubble of a c...   \n",
            "3                                               None   \n",
            "4  Authorities examined 600 pieces of evidence an...   \n",
            "\n",
            "                                                 url  \\\n",
            "0  https://www.cartercenter.org/news/pr/2023/stat...   \n",
            "1  https://www.cbssports.com/nfl/news/joe-burrow-...   \n",
            "2  https://abcnews.go.com/International/wireStory...   \n",
            "3  https://www.axios.com/2023/11/17/apple-twitter...   \n",
            "4  https://www.nbcnews.com/news/us-news/authoriti...   \n",
            "\n",
            "                                          urlToImage           publishedAt  \\\n",
            "0  https://www.cartercenter.org/images/tcc-fb-def...  2023-11-17T19:59:31Z   \n",
            "1  https://sportshub.cbsistatic.com/i/r/2023/11/1...  2023-11-17T19:58:00Z   \n",
            "2  https://i.abcnewsfe.com/a/5f4af780-507f-450c-b...  2023-11-17T19:51:05Z   \n",
            "3                                               None  2023-11-17T19:37:25Z   \n",
            "4  https://media-cldnry.s-nbcnews.com/image/uploa...  2023-11-17T19:34:17Z   \n",
            "\n",
            "                                             content  \n",
            "0  ATLANTA (Nov. 17, 2023) — On behalf of Jason C...  \n",
            "1  The Cincinnati Bengals will move forward throu...  \n",
            "2  LUCKNOW, India -- Rescuers drilled deeper into...  \n",
            "3                                               None  \n",
            "4  Authorities examined 600 pieces of evidence an...  \n"
          ]
        }
      ],
      "source": [
        "import pandas as pd\n",
        "import requests\n",
        "\n",
        "# Reemplaza 'TU_CLAVE_DE_API' con tu clave real\n",
        "api_key = 'cae9ded6b25d462ba1d2b1f0cc0422eb'\n",
        "url = 'https://newsapi.org/v2/top-headlines'\n",
        "params = {'country': 'us', 'apiKey': api_key}\n",
        "\n",
        "response = requests.get(url, params=params)\n",
        "\n",
        "if response.status_code == 200:\n",
        "    api_response = response.json()\n",
        "else:\n",
        "    print(f'Error en la solicitud: {response.status_code}')\n",
        "    api_response = None\n",
        "\n",
        "# Verifica si la respuesta es exitosa\n",
        "if api_response and api_response[\"status\"] == \"ok\":\n",
        "    # Extraer la lista de artículos\n",
        "    articles = api_response[\"articles\"]\n",
        "\n",
        "    # Crear un DataFrame utilizando Pandas\n",
        "    df = pd.DataFrame(articles)\n",
        "\n",
        "    # Explorar el DataFrame\n",
        "    print(\"Número de filas y columnas:\", df.shape)\n",
        "    print(\"\\nNombres de columnas:\", df.columns)\n",
        "    print(\"\\nTipos de datos de las columnas:\\n\", df.dtypes)\n",
        "    print(\"\\nPrimeras filas del DataFrame:\\n\", df.head())\n",
        "\n",
        "else:\n",
        "    print(\"Error en la respuesta de la API:\", api_response[\"status\"] if api_response else \"No hay respuesta\")\n"
      ]
    }
  ]
}